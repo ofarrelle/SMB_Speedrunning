{
 "cells": [
  {
   "cell_type": "markdown",
   "metadata": {},
   "source": [
    "This is first of a set of projects called *The Flurries*. I tend to get really interested in some random topic for a short period of time before I lose interest. These small-ish projects will allow me to have some fun with these topics before I never think of them again.\n",
    "\n",
    "My current fad? The history of speedrunning various video games. I thank the youtuber SummoningSalt (also an accomplished speedrunner) for introducing me to this world through his videos. The first video of his that I found was the history of speedrunning the original Super Mario Bros\n",
    "\n",
    "The goal of the project will be to identify when the biggest leaps in speedrunning technique for SMB were found using data. The data comes from [speedrun.com](https://www.speedrun.com)\n",
    "\n",
    "While copy-pasting the table of record times does yield a space-delimited values sheet, the dates lose granularity over time. To get the true date a run was set, we need to parse the HTML of the table of speed records. That will be the first challenge of this project"
   ]
  },
  {
   "cell_type": "code",
   "execution_count": 1,
   "metadata": {},
   "outputs": [],
   "source": [
    "import pandas as pd"
   ]
  },
  {
   "cell_type": "code",
   "execution_count": 2,
   "metadata": {},
   "outputs": [
    {
     "data": {
      "text/html": [
       "<div>\n",
       "<style scoped>\n",
       "    .dataframe tbody tr th:only-of-type {\n",
       "        vertical-align: middle;\n",
       "    }\n",
       "\n",
       "    .dataframe tbody tr th {\n",
       "        vertical-align: top;\n",
       "    }\n",
       "\n",
       "    .dataframe thead th {\n",
       "        text-align: right;\n",
       "    }\n",
       "</style>\n",
       "<table border=\"1\" class=\"dataframe\">\n",
       "  <thead>\n",
       "    <tr style=\"text-align: right;\">\n",
       "      <th></th>\n",
       "      <th>Player</th>\n",
       "      <th>Time</th>\n",
       "    </tr>\n",
       "  </thead>\n",
       "  <tbody>\n",
       "    <tr>\n",
       "      <th>0</th>\n",
       "      <td>Niftski</td>\n",
       "      <td>4m 55s 430ms</td>\n",
       "    </tr>\n",
       "    <tr>\n",
       "      <th>1</th>\n",
       "      <td>Kosmic</td>\n",
       "      <td>4m 55s 646ms</td>\n",
       "    </tr>\n",
       "    <tr>\n",
       "      <th>2</th>\n",
       "      <td>tavenwebb2002</td>\n",
       "      <td>4m 55s 746ms</td>\n",
       "    </tr>\n",
       "    <tr>\n",
       "      <th>3</th>\n",
       "      <td>eddiecatgaming</td>\n",
       "      <td>4m 55s 763ms</td>\n",
       "    </tr>\n",
       "    <tr>\n",
       "      <th>4</th>\n",
       "      <td>somewes</td>\n",
       "      <td>4m 55s 796ms</td>\n",
       "    </tr>\n",
       "  </tbody>\n",
       "</table>\n",
       "</div>"
      ],
      "text/plain": [
       "           Player          Time\n",
       "0         Niftski  4m 55s 430ms\n",
       "1          Kosmic  4m 55s 646ms\n",
       "2   tavenwebb2002  4m 55s 746ms\n",
       "3  eddiecatgaming  4m 55s 763ms\n",
       "4         somewes  4m 55s 796ms"
      ]
     },
     "execution_count": 2,
     "metadata": {},
     "output_type": "execute_result"
    }
   ],
   "source": [
    "df = pd.read_csv(\"times_2020_12_17.csv\", encoding = \"ISO-8859-1\")\n",
    "df.head()"
   ]
  },
  {
   "cell_type": "code",
   "execution_count": null,
   "metadata": {},
   "outputs": [],
   "source": []
  }
 ],
 "metadata": {
  "kernelspec": {
   "display_name": "Python 3",
   "language": "python",
   "name": "python3"
  },
  "language_info": {
   "codemirror_mode": {
    "name": "ipython",
    "version": 3
   },
   "file_extension": ".py",
   "mimetype": "text/x-python",
   "name": "python",
   "nbconvert_exporter": "python",
   "pygments_lexer": "ipython3",
   "version": "3.8.6"
  }
 },
 "nbformat": 4,
 "nbformat_minor": 4
}
