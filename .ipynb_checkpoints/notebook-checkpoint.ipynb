{
 "cells": [
  {
   "cell_type": "markdown",
   "metadata": {},
   "source": [
    "This is first of a set of projects called *The Flurries*. I tend to get really interested in some random topic for a short period of time before I lose interest. These small-ish projects will allow me to have some fun with these topics before I never think of them again.\n",
    "\n",
    "My current fad? The history of speedrunning various video games. I thank the youtuber SummoningSalt (also an accomplished speedrunner) for introducing me to this world through his videos. The first video of his that I found was the history of speedrunning the original Super Mario Bros\n",
    "\n",
    "The goal of the project will be to identify when the biggest leaps in speedrunning technique for SMB were found using data. The data comes from [speedrun.com](https://www.speedrun.com)\n",
    "\n",
    "While copy-pasting the table of record times does yield a space-delimited values sheet, the dates lose granularity over time. To get the true date a run was set, we need to parse the HTML of the table of speed records. That will be the first challenge of this project"
   ]
  },
  {
   "cell_type": "code",
   "execution_count": 1,
   "metadata": {},
   "outputs": [],
   "source": [
    "import pandas as pd\n",
    "import numpy as np\n",
    "import re\n",
    "import matplotlib as mpl"
   ]
  },
  {
   "cell_type": "code",
   "execution_count": 2,
   "metadata": {},
   "outputs": [
    {
     "data": {
      "text/html": [
       "<div>\n",
       "<style scoped>\n",
       "    .dataframe tbody tr th:only-of-type {\n",
       "        vertical-align: middle;\n",
       "    }\n",
       "\n",
       "    .dataframe tbody tr th {\n",
       "        vertical-align: top;\n",
       "    }\n",
       "\n",
       "    .dataframe thead th {\n",
       "        text-align: right;\n",
       "    }\n",
       "</style>\n",
       "<table border=\"1\" class=\"dataframe\">\n",
       "  <thead>\n",
       "    <tr style=\"text-align: right;\">\n",
       "      <th></th>\n",
       "      <th>Player</th>\n",
       "      <th>Time</th>\n",
       "    </tr>\n",
       "  </thead>\n",
       "  <tbody>\n",
       "    <tr>\n",
       "      <th>0</th>\n",
       "      <td>Niftski</td>\n",
       "      <td>4m 55s 430ms</td>\n",
       "    </tr>\n",
       "    <tr>\n",
       "      <th>1</th>\n",
       "      <td>Kosmic</td>\n",
       "      <td>4m 55s 646ms</td>\n",
       "    </tr>\n",
       "    <tr>\n",
       "      <th>2</th>\n",
       "      <td>tavenwebb2002</td>\n",
       "      <td>4m 55s 746ms</td>\n",
       "    </tr>\n",
       "    <tr>\n",
       "      <th>3</th>\n",
       "      <td>eddiecatgaming</td>\n",
       "      <td>4m 55s 763ms</td>\n",
       "    </tr>\n",
       "    <tr>\n",
       "      <th>4</th>\n",
       "      <td>somewes</td>\n",
       "      <td>4m 55s 796ms</td>\n",
       "    </tr>\n",
       "  </tbody>\n",
       "</table>\n",
       "</div>"
      ],
      "text/plain": [
       "           Player          Time\n",
       "0         Niftski  4m 55s 430ms\n",
       "1          Kosmic  4m 55s 646ms\n",
       "2   tavenwebb2002  4m 55s 746ms\n",
       "3  eddiecatgaming  4m 55s 763ms\n",
       "4         somewes  4m 55s 796ms"
      ]
     },
     "execution_count": 2,
     "metadata": {},
     "output_type": "execute_result"
    }
   ],
   "source": [
    "df = pd.read_csv(\"times_2020_12_17.csv\", encoding = \"ISO-8859-1\")\n",
    "df.head()"
   ]
  },
  {
   "cell_type": "code",
   "execution_count": 3,
   "metadata": {},
   "outputs": [
    {
     "name": "stdout",
     "output_type": "stream",
     "text": [
      "df length 1138\n",
      "dates found 1146\n"
     ]
    }
   ],
   "source": [
    "datePattern = \"\\d\\d\\d\\d-\\d\\d-\\d\\d,\"\n",
    "\n",
    "with open('tablehtml_withdates.txt', \"r\",encoding='utf-8') as f:\n",
    "    allDates = re.findall(datePattern, f.read())\n",
    "\n",
    "print('df length', len(df))\n",
    "print('dates found', len(allDates))"
   ]
  },
  {
   "cell_type": "markdown",
   "metadata": {},
   "source": [
    "Ah yes, that reminds me, I removed the slowest few times in the CSV. While most of the speedrun times we will take a look at are under ~15 minutes, the worst few ranged anywhere from 30 mins to over an hour, so we can discard the bottom 8 dates from the file as well.\n",
    "\n",
    "Also, in each HTML table row, there were 2 listings for the date the run was set. I only need 1, so the comma in the regex string was necessary to only return the 1. We can now filter the comma out of all the date strings too."
   ]
  },
  {
   "cell_type": "code",
   "execution_count": 4,
   "metadata": {},
   "outputs": [
    {
     "data": {
      "text/plain": [
       "1138"
      ]
     },
     "execution_count": 4,
     "metadata": {},
     "output_type": "execute_result"
    }
   ],
   "source": [
    "datesRunWasSet = list(map(lambda x: x[0:-1], allDates))[0: -8]\n",
    "len(datesRunWasSet)"
   ]
  },
  {
   "cell_type": "code",
   "execution_count": 5,
   "metadata": {},
   "outputs": [
    {
     "data": {
      "text/html": [
       "<div>\n",
       "<style scoped>\n",
       "    .dataframe tbody tr th:only-of-type {\n",
       "        vertical-align: middle;\n",
       "    }\n",
       "\n",
       "    .dataframe tbody tr th {\n",
       "        vertical-align: top;\n",
       "    }\n",
       "\n",
       "    .dataframe thead th {\n",
       "        text-align: right;\n",
       "    }\n",
       "</style>\n",
       "<table border=\"1\" class=\"dataframe\">\n",
       "  <thead>\n",
       "    <tr style=\"text-align: right;\">\n",
       "      <th></th>\n",
       "      <th>Player</th>\n",
       "      <th>Time</th>\n",
       "      <th>dateSet</th>\n",
       "    </tr>\n",
       "  </thead>\n",
       "  <tbody>\n",
       "    <tr>\n",
       "      <th>0</th>\n",
       "      <td>Niftski</td>\n",
       "      <td>4m 55s 430ms</td>\n",
       "      <td>2020-11-13</td>\n",
       "    </tr>\n",
       "    <tr>\n",
       "      <th>1</th>\n",
       "      <td>Kosmic</td>\n",
       "      <td>4m 55s 646ms</td>\n",
       "      <td>2020-01-17</td>\n",
       "    </tr>\n",
       "    <tr>\n",
       "      <th>2</th>\n",
       "      <td>tavenwebb2002</td>\n",
       "      <td>4m 55s 746ms</td>\n",
       "      <td>2019-08-02</td>\n",
       "    </tr>\n",
       "    <tr>\n",
       "      <th>3</th>\n",
       "      <td>eddiecatgaming</td>\n",
       "      <td>4m 55s 763ms</td>\n",
       "      <td>2020-09-21</td>\n",
       "    </tr>\n",
       "    <tr>\n",
       "      <th>4</th>\n",
       "      <td>somewes</td>\n",
       "      <td>4m 55s 796ms</td>\n",
       "      <td>2018-10-22</td>\n",
       "    </tr>\n",
       "  </tbody>\n",
       "</table>\n",
       "</div>"
      ],
      "text/plain": [
       "           Player          Time    dateSet\n",
       "0         Niftski  4m 55s 430ms 2020-11-13\n",
       "1          Kosmic  4m 55s 646ms 2020-01-17\n",
       "2   tavenwebb2002  4m 55s 746ms 2019-08-02\n",
       "3  eddiecatgaming  4m 55s 763ms 2020-09-21\n",
       "4         somewes  4m 55s 796ms 2018-10-22"
      ]
     },
     "execution_count": 5,
     "metadata": {},
     "output_type": "execute_result"
    }
   ],
   "source": [
    "df['dateSet'] = pd.Series(pd.to_datetime(datesRunWasSet), index=df.index)\n",
    "df.head()\n"
   ]
  },
  {
   "cell_type": "code",
   "execution_count": 6,
   "metadata": {},
   "outputs": [
    {
     "data": {
      "text/html": [
       "<div>\n",
       "<style scoped>\n",
       "    .dataframe tbody tr th:only-of-type {\n",
       "        vertical-align: middle;\n",
       "    }\n",
       "\n",
       "    .dataframe tbody tr th {\n",
       "        vertical-align: top;\n",
       "    }\n",
       "\n",
       "    .dataframe thead th {\n",
       "        text-align: right;\n",
       "    }\n",
       "</style>\n",
       "<table border=\"1\" class=\"dataframe\">\n",
       "  <thead>\n",
       "    <tr style=\"text-align: right;\">\n",
       "      <th></th>\n",
       "      <th>Player</th>\n",
       "      <th>Time</th>\n",
       "      <th>dateSet</th>\n",
       "      <th>time</th>\n",
       "    </tr>\n",
       "  </thead>\n",
       "  <tbody>\n",
       "    <tr>\n",
       "      <th>0</th>\n",
       "      <td>Niftski</td>\n",
       "      <td>4m 55s 430ms</td>\n",
       "      <td>2020-11-13</td>\n",
       "      <td>295.430</td>\n",
       "    </tr>\n",
       "    <tr>\n",
       "      <th>1</th>\n",
       "      <td>Kosmic</td>\n",
       "      <td>4m 55s 646ms</td>\n",
       "      <td>2020-01-17</td>\n",
       "      <td>295.646</td>\n",
       "    </tr>\n",
       "    <tr>\n",
       "      <th>2</th>\n",
       "      <td>tavenwebb2002</td>\n",
       "      <td>4m 55s 746ms</td>\n",
       "      <td>2019-08-02</td>\n",
       "      <td>295.746</td>\n",
       "    </tr>\n",
       "    <tr>\n",
       "      <th>3</th>\n",
       "      <td>eddiecatgaming</td>\n",
       "      <td>4m 55s 763ms</td>\n",
       "      <td>2020-09-21</td>\n",
       "      <td>295.763</td>\n",
       "    </tr>\n",
       "    <tr>\n",
       "      <th>4</th>\n",
       "      <td>somewes</td>\n",
       "      <td>4m 55s 796ms</td>\n",
       "      <td>2018-10-22</td>\n",
       "      <td>295.796</td>\n",
       "    </tr>\n",
       "  </tbody>\n",
       "</table>\n",
       "</div>"
      ],
      "text/plain": [
       "           Player          Time    dateSet     time\n",
       "0         Niftski  4m 55s 430ms 2020-11-13  295.430\n",
       "1          Kosmic  4m 55s 646ms 2020-01-17  295.646\n",
       "2   tavenwebb2002  4m 55s 746ms 2019-08-02  295.746\n",
       "3  eddiecatgaming  4m 55s 763ms 2020-09-21  295.763\n",
       "4         somewes  4m 55s 796ms 2018-10-22  295.796"
      ]
     },
     "execution_count": 6,
     "metadata": {},
     "output_type": "execute_result"
    }
   ],
   "source": [
    "def timeToSeconds(s):\n",
    "    mIndex = s.index('m')\n",
    "    minutes = int(s[0:mIndex])\n",
    "    sIndex = s.index('s')\n",
    "    seconds = int(s[mIndex+2 : sIndex])\n",
    "    total = 60 * minutes + seconds\n",
    "    if s.find('ms') != -1:\n",
    "        total += int(s[sIndex+2 : -2]) / 1000\n",
    "    return total\n",
    "\n",
    "\n",
    "df['time'] = df.apply(lambda row: timeToSeconds(row['Time']), axis=1)\n",
    "df.head()"
   ]
  },
  {
   "cell_type": "markdown",
   "metadata": {},
   "source": [
    "Huzzah! Now we have each player, their fastest ever run, and the date it was set. Now we get to the fun part.\n",
    "\n",
    "Let's plot the length of speedruns over time."
   ]
  },
  {
   "cell_type": "code",
   "execution_count": 7,
   "metadata": {},
   "outputs": [
    {
     "data": {
      "text/plain": [
       "<AxesSubplot:title={'center':'Fastest Run by player, over time'}, xlabel='dateSet'>"
      ]
     },
     "execution_count": 7,
     "metadata": {},
     "output_type": "execute_result"
    },
    {
     "data": {
      "image/png": "[encoded data removed]",
      "text/plain": [
       "<Figure size 1440x360 with 1 Axes>"
      ]
     },
     "metadata": {
      "needs_background": "light"
     },
     "output_type": "display_data"
    }
   ],
   "source": [
    "df.plot.line(x='dateSet', y='time', title=\"Fastest Run by player, over time\", figsize=(20,5))"
   ]
  },
  {
   "cell_type": "markdown",
   "metadata": {},
   "source": [
    "Okay, clearly as more people started speedrunning around 2014, the variances between times skyrockets as well. Remember, the data only shows the *best* run for every player. Another factor for the noise in recent years is that for a given Player, it is more likely that their fastest time came in recent years. We can confirm this by bucketing the number of runs per year."
   ]
  },
  {
   "cell_type": "code",
   "execution_count": 8,
   "metadata": {},
   "outputs": [
    {
     "data": {
      "text/plain": [
       "<AxesSubplot:title={'center':'When runs were set, from 2002 to 2020'}, ylabel='Frequency'>"
      ]
     },
     "execution_count": 8,
     "metadata": {},
     "output_type": "execute_result"
    },
    {
     "data": {
      "image/png": "[encoded data removed]",
      "text/plain": [
       "<Figure size 1440x360 with 1 Axes>"
      ]
     },
     "metadata": {
      "needs_background": "light"
     },
     "output_type": "display_data"
    }
   ],
   "source": [
    "df['dateSet'].astype(np.int64).plot.hist(bins=20, title='When runs were set, from 2002 to 2020', figsize=(20,5))"
   ]
  },
  {
   "cell_type": "markdown",
   "metadata": {},
   "source": [
    "Looking back at the \"Fastest runs by player over time\" graph, it seems like there is a lower bound within all the noise. Lets try to plot that lower bounds, bucketing times by month."
   ]
  },
  {
   "cell_type": "code",
   "execution_count": 9,
   "metadata": {},
   "outputs": [
    {
     "data": {
      "text/plain": [
       "monthSet\n",
       "2002-06-01    325.000\n",
       "2003-01-01    317.000\n",
       "2004-11-01    306.000\n",
       "2006-09-01    305.000\n",
       "2010-12-01    302.418\n",
       "               ...   \n",
       "2020-08-01    297.810\n",
       "2020-09-01    295.763\n",
       "2020-10-01    296.062\n",
       "2020-11-01    295.430\n",
       "2020-12-01    296.894\n",
       "Name: time, Length: 91, dtype: float64"
      ]
     },
     "execution_count": 9,
     "metadata": {},
     "output_type": "execute_result"
    }
   ],
   "source": [
    "groupedRuns = df\n",
    "groupedRuns['monthSet'] = groupedRuns.apply(lambda row: row['dateSet'].replace(day=1), axis=1)\n",
    "groupedRuns = groupedRuns.groupby(by=df['monthSet']).min()\n",
    "groupedRuns['time']"
   ]
  },
  {
   "cell_type": "code",
   "execution_count": 10,
   "metadata": {},
   "outputs": [
    {
     "data": {
      "text/plain": [
       "<AxesSubplot:title={'center':'Fastest Run per Month'}, xlabel='monthSet'>"
      ]
     },
     "execution_count": 10,
     "metadata": {},
     "output_type": "execute_result"
    },
    {
     "data": {
      "image/png": "[encoded data removed]",
      "text/plain": [
       "<Figure size 1440x360 with 1 Axes>"
      ]
     },
     "metadata": {
      "needs_background": "light"
     },
     "output_type": "display_data"
    }
   ],
   "source": [
    "groupedRuns.plot.line(y='time', title=\"Fastest Run per Month\", figsize=(20,5))"
   ]
  },
  {
   "cell_type": "markdown",
   "metadata": {},
   "source": [
    "Wow. In late 2014 there was a month where nobody broke the 7 minute mark? Bucketing by any larger granularity will likely lose the context of what we are trying to find, so lets start analyzing the data by something new: just the times, not the dates.\n",
    "\n",
    "We will filter down to runs under 6 minutes. Recall, we are looking for strategies that save small amounts of time as the world record has reached its limit."
   ]
  },
  {
   "cell_type": "code",
   "execution_count": 22,
   "metadata": {},
   "outputs": [
    {
     "data": {
      "text/html": [
       "<div>\n",
       "<style scoped>\n",
       "    .dataframe tbody tr th:only-of-type {\n",
       "        vertical-align: middle;\n",
       "    }\n",
       "\n",
       "    .dataframe tbody tr th {\n",
       "        vertical-align: top;\n",
       "    }\n",
       "\n",
       "    .dataframe thead th {\n",
       "        text-align: right;\n",
       "    }\n",
       "</style>\n",
       "<table border=\"1\" class=\"dataframe\">\n",
       "  <thead>\n",
       "    <tr style=\"text-align: right;\">\n",
       "      <th></th>\n",
       "      <th>Player</th>\n",
       "      <th>dateSet</th>\n",
       "      <th>time</th>\n",
       "    </tr>\n",
       "  </thead>\n",
       "  <tbody>\n",
       "    <tr>\n",
       "      <th>0</th>\n",
       "      <td>FabianUnkreativ</td>\n",
       "      <td>2020-06-09</td>\n",
       "      <td>359.000</td>\n",
       "    </tr>\n",
       "    <tr>\n",
       "      <th>1</th>\n",
       "      <td>Shark_Eat_Fish</td>\n",
       "      <td>2020-04-03</td>\n",
       "      <td>359.000</td>\n",
       "    </tr>\n",
       "    <tr>\n",
       "      <th>2</th>\n",
       "      <td>Jaybug</td>\n",
       "      <td>2018-04-10</td>\n",
       "      <td>359.000</td>\n",
       "    </tr>\n",
       "    <tr>\n",
       "      <th>3</th>\n",
       "      <td>DownHaul</td>\n",
       "      <td>2018-02-16</td>\n",
       "      <td>359.000</td>\n",
       "    </tr>\n",
       "    <tr>\n",
       "      <th>4</th>\n",
       "      <td>Zehal</td>\n",
       "      <td>2014-02-09</td>\n",
       "      <td>359.000</td>\n",
       "    </tr>\n",
       "    <tr>\n",
       "      <th>...</th>\n",
       "      <td>...</td>\n",
       "      <td>...</td>\n",
       "      <td>...</td>\n",
       "    </tr>\n",
       "    <tr>\n",
       "      <th>909</th>\n",
       "      <td>somewes</td>\n",
       "      <td>2018-10-22</td>\n",
       "      <td>295.796</td>\n",
       "    </tr>\n",
       "    <tr>\n",
       "      <th>910</th>\n",
       "      <td>eddiecatgaming</td>\n",
       "      <td>2020-09-21</td>\n",
       "      <td>295.763</td>\n",
       "    </tr>\n",
       "    <tr>\n",
       "      <th>911</th>\n",
       "      <td>tavenwebb2002</td>\n",
       "      <td>2019-08-02</td>\n",
       "      <td>295.746</td>\n",
       "    </tr>\n",
       "    <tr>\n",
       "      <th>912</th>\n",
       "      <td>Kosmic</td>\n",
       "      <td>2020-01-17</td>\n",
       "      <td>295.646</td>\n",
       "    </tr>\n",
       "    <tr>\n",
       "      <th>913</th>\n",
       "      <td>Niftski</td>\n",
       "      <td>2020-11-13</td>\n",
       "      <td>295.430</td>\n",
       "    </tr>\n",
       "  </tbody>\n",
       "</table>\n",
       "<p>914 rows × 3 columns</p>\n",
       "</div>"
      ],
      "text/plain": [
       "              Player    dateSet     time\n",
       "0    FabianUnkreativ 2020-06-09  359.000\n",
       "1     Shark_Eat_Fish 2020-04-03  359.000\n",
       "2             Jaybug 2018-04-10  359.000\n",
       "3           DownHaul 2018-02-16  359.000\n",
       "4              Zehal 2014-02-09  359.000\n",
       "..               ...        ...      ...\n",
       "909          somewes 2018-10-22  295.796\n",
       "910   eddiecatgaming 2020-09-21  295.763\n",
       "911    tavenwebb2002 2019-08-02  295.746\n",
       "912           Kosmic 2020-01-17  295.646\n",
       "913          Niftski 2020-11-13  295.430\n",
       "\n",
       "[914 rows x 3 columns]"
      ]
     },
     "execution_count": 22,
     "metadata": {},
     "output_type": "execute_result"
    }
   ],
   "source": [
    "times = df[['Player', 'dateSet', 'time']].sort_values(by='time', ascending=False)\n",
    "times = times[times['time'] < 360].reset_index(drop=True)\n",
    "times"
   ]
  },
  {
   "cell_type": "code",
   "execution_count": 24,
   "metadata": {},
   "outputs": [
    {
     "data": {
      "text/plain": [
       "<AxesSubplot:title={'center':'Runs under 6 Minutes'}>"
      ]
     },
     "execution_count": 24,
     "metadata": {},
     "output_type": "execute_result"
    },
    {
     "data": {
      "image/png": "[encoded data removed]",
      "text/plain": [
       "<Figure size 1440x360 with 1 Axes>"
      ]
     },
     "metadata": {
      "needs_background": "light"
     },
     "output_type": "display_data"
    }
   ],
   "source": [
    "times.plot.line(y='time', figsize=(20,5), title='Runs under 6 Minutes')"
   ]
  },
  {
   "cell_type": "code",
   "execution_count": null,
   "metadata": {},
   "outputs": [],
   "source": []
  }
 ],
 "metadata": {
  "kernelspec": {
   "display_name": "Python 3",
   "language": "python",
   "name": "python3"
  },
  "language_info": {
   "codemirror_mode": {
    "name": "ipython",
    "version": 3
   },
   "file_extension": ".py",
   "mimetype": "text/x-python",
   "name": "python",
   "nbconvert_exporter": "python",
   "pygments_lexer": "ipython3",
   "version": "3.8.6"
  }
 },
 "nbformat": 4,
 "nbformat_minor": 4
}
